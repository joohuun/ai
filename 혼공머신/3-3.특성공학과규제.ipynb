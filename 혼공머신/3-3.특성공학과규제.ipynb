{
 "cells": [
  {
   "cell_type": "code",
   "execution_count": 3,
   "metadata": {},
   "outputs": [],
   "source": [
    "import pandas as pd"
   ]
  },
  {
   "cell_type": "code",
   "execution_count": 4,
   "metadata": {},
   "outputs": [
    {
     "name": "stdout",
     "output_type": "stream",
     "text": [
      "[[ 8.4   2.11  1.41]\n",
      " [13.7   3.53  2.  ]\n",
      " [15.    3.82  2.43]\n",
      " [16.2   4.59  2.63]\n",
      " [17.4   4.59  2.94]\n",
      " [18.    5.22  3.32]\n",
      " [18.7   5.2   3.12]\n",
      " [19.    5.64  3.05]\n",
      " [19.6   5.14  3.04]\n",
      " [20.    5.08  2.77]\n",
      " [21.    5.69  3.56]\n",
      " [21.    5.92  3.31]\n",
      " [21.    5.69  3.67]\n",
      " [21.3   6.38  3.53]\n",
      " [22.    6.11  3.41]\n",
      " [22.    5.64  3.52]\n",
      " [22.    6.11  3.52]\n",
      " [22.    5.88  3.52]\n",
      " [22.    5.52  4.  ]\n",
      " [22.5   5.86  3.62]\n",
      " [22.5   6.79  3.62]\n",
      " [22.7   5.95  3.63]\n",
      " [23.    5.22  3.63]\n",
      " [23.5   6.28  3.72]\n",
      " [24.    7.29  3.72]\n",
      " [24.    6.38  3.82]\n",
      " [24.6   6.73  4.17]\n",
      " [25.    6.44  3.68]\n",
      " [25.6   6.56  4.24]\n",
      " [26.5   7.17  4.14]\n",
      " [27.3   8.32  5.14]\n",
      " [27.5   7.17  4.34]\n",
      " [27.5   7.05  4.34]\n",
      " [27.5   7.28  4.57]\n",
      " [28.    7.82  4.2 ]\n",
      " [28.7   7.59  4.64]\n",
      " [30.    7.62  4.77]\n",
      " [32.8  10.03  6.02]\n",
      " [34.5  10.26  6.39]\n",
      " [35.   11.49  7.8 ]\n",
      " [36.5  10.88  6.86]\n",
      " [36.   10.61  6.74]\n",
      " [37.   10.84  6.26]\n",
      " [37.   10.57  6.37]\n",
      " [39.   11.14  7.49]\n",
      " [39.   11.14  6.  ]\n",
      " [39.   12.43  7.35]\n",
      " [40.   11.93  7.11]\n",
      " [40.   11.73  7.22]\n",
      " [40.   12.38  7.46]\n",
      " [40.   11.14  6.63]\n",
      " [42.   12.8   6.87]\n",
      " [43.   11.93  7.28]\n",
      " [43.   12.51  7.42]\n",
      " [43.5  12.6   8.14]\n",
      " [44.   12.49  7.6 ]]\n"
     ]
    }
   ],
   "source": [
    "df = pd.read_csv('https://bit.ly/perch_csv_data')\n",
    "perch_full = df.to_numpy()\n",
    "print(perch_full)"
   ]
  },
  {
   "cell_type": "code",
   "execution_count": 5,
   "metadata": {},
   "outputs": [],
   "source": [
    "import numpy as np\n",
    "\n",
    "perch_weight = np.array(\n",
    "    [5.9, 32.0, 40.0, 51.5, 70.0, 100.0, 78.0, 80.0, 85.0, 85.0, \n",
    "     110.0, 115.0, 125.0, 130.0, 120.0, 120.0, 130.0, 135.0, 110.0, \n",
    "     130.0, 150.0, 145.0, 150.0, 170.0, 225.0, 145.0, 188.0, 180.0, \n",
    "     197.0, 218.0, 300.0, 260.0, 265.0, 250.0, 250.0, 300.0, 320.0, \n",
    "     514.0, 556.0, 840.0, 685.0, 700.0, 700.0, 690.0, 900.0, 650.0, \n",
    "     820.0, 850.0, 900.0, 1015.0, 820.0, 1100.0, 1000.0, 1100.0, \n",
    "     1000.0, 1000.0]\n",
    "     )"
   ]
  },
  {
   "cell_type": "code",
   "execution_count": 6,
   "metadata": {},
   "outputs": [],
   "source": [
    "from sklearn.model_selection import train_test_split\n",
    "\n",
    "train_input, test_input, train_target, test_target = train_test_split(perch_full, perch_weight, random_state=42)"
   ]
  },
  {
   "cell_type": "code",
   "execution_count": 7,
   "metadata": {},
   "outputs": [],
   "source": [
    "# 변환기 클래스, fit, transform 메서드 제공\n",
    "from sklearn.preprocessing import PolynomialFeatures"
   ]
  },
  {
   "cell_type": "code",
   "execution_count": 8,
   "metadata": {},
   "outputs": [
    {
     "name": "stdout",
     "output_type": "stream",
     "text": [
      "[[1. 2. 3. 4. 6. 9.]]\n"
     ]
    }
   ],
   "source": [
    "# degree = 2 기본값\n",
    "poly = PolynomialFeatures()\n",
    "# 두개의 특성 2,3으로 이루어진 샘플을 조합함\n",
    "poly.fit([[2, 3]])\n",
    "# transform: 특성을 반환하는 함수\n",
    "print(poly.transform([[2, 3]]))"
   ]
  },
  {
   "attachments": {},
   "cell_type": "markdown",
   "metadata": {},
   "source": [
    "무게 = a * 길이 + b * 높이 + c * 두께 + d * 1           \n",
    "      \n",
    "이렇게 놓고 보면 특성은 (길이, 높이, 두께, 1)이 됩니다    \n",
    "\n",
    "절편을 위한 특성을 자동으로 추가해줌 \n",
    "      \n"
   ]
  },
  {
   "cell_type": "code",
   "execution_count": 9,
   "metadata": {},
   "outputs": [
    {
     "name": "stdout",
     "output_type": "stream",
     "text": [
      "[[2. 3. 4. 6. 9.]]\n"
     ]
    }
   ],
   "source": [
    "# 절편을 위한 항을 제거하고 특성의 제곱과 특성끼리 곱한 항만 추가\n",
    "poly = PolynomialFeatures(include_bias=False)\n",
    "poly.fit(([[2,3]]))\n",
    "print(poly.transform([[2,3]]))"
   ]
  },
  {
   "cell_type": "code",
   "execution_count": 10,
   "metadata": {},
   "outputs": [
    {
     "name": "stdout",
     "output_type": "stream",
     "text": [
      "(42, 9)\n"
     ]
    }
   ],
   "source": [
    "poly = PolynomialFeatures(include_bias=False)\n",
    "# train_input 특성의 샘플을 조합\n",
    "poly.fit(train_input)\n",
    "# 특성 반환\n",
    "train_poly = poly.transform(train_input)\n",
    "# 9개의 특성을 가짐\n",
    "print(train_poly.shape)"
   ]
  },
  {
   "cell_type": "code",
   "execution_count": 11,
   "metadata": {},
   "outputs": [
    {
     "data": {
      "text/plain": [
       "array(['x0', 'x1', 'x2', 'x0^2', 'x0 x1', 'x0 x2', 'x1^2', 'x1 x2',\n",
       "       'x2^2'], dtype=object)"
      ]
     },
     "execution_count": 11,
     "metadata": {},
     "output_type": "execute_result"
    }
   ],
   "source": [
    "# 9개의 특성이 각가 어떤 입력의 조합으로 만들어졌는지 확인\n",
    "poly.get_feature_names_out()"
   ]
  },
  {
   "cell_type": "code",
   "execution_count": 12,
   "metadata": {},
   "outputs": [],
   "source": [
    "# 테스트셋 반환\n",
    "test_poly = poly.transform(test_input)"
   ]
  },
  {
   "attachments": {},
   "cell_type": "markdown",
   "metadata": {},
   "source": [
    "### 다중 회귀 모델 훈련하기\n",
    "\n",
    "- 다중 회귀 모델을 훈련하는 것은 선형 회귀 모델을 훈련하는 것과 같다.         \n",
    "- 다만, 여러개의 특성을 사용하여 선형회귀를 수행하는 것뿐이다.      \n",
    "- 앞장에서 사용한 LinearRegrssion 클래스를 사용\n",
    "\n"
   ]
  },
  {
   "cell_type": "code",
   "execution_count": 13,
   "metadata": {},
   "outputs": [
    {
     "name": "stdout",
     "output_type": "stream",
     "text": [
      "트레인셋: 0.9903183436982124\n",
      "테스트셋: 0.9714559911594203\n"
     ]
    }
   ],
   "source": [
    "from sklearn.linear_model import LinearRegression\n",
    "\n",
    "lr = LinearRegression()\n",
    "lr.fit(train_poly, train_target)\n",
    "print(\"트레인셋:\",lr.score(train_poly, train_target))\n",
    "print(\"테스트셋:\",lr.score(test_poly, test_target))"
   ]
  },
  {
   "cell_type": "code",
   "execution_count": 14,
   "metadata": {},
   "outputs": [
    {
     "name": "stdout",
     "output_type": "stream",
     "text": [
      "(42, 55)\n"
     ]
    }
   ],
   "source": [
    "# dgree = 5\n",
    "poly = PolynomialFeatures(degree=5, include_bias=False)\n",
    "\n",
    "# train_input 특성의 샘플을 조합\n",
    "poly.fit(train_input)\n",
    "\n",
    "# 특성 반환\n",
    "train_poly = poly.transform(train_input)\n",
    "test_poly = poly.transform(test_input)\n",
    "\n",
    "# 55개의 특성 확인\n",
    "print(train_poly.shape)"
   ]
  },
  {
   "cell_type": "code",
   "execution_count": 16,
   "metadata": {},
   "outputs": [
    {
     "name": "stdout",
     "output_type": "stream",
     "text": [
      "트레이셋: 0.999999999997515\n",
      "테스트셋: -144.40196592191958\n"
     ]
    }
   ],
   "source": [
    "lr.fit(train_poly, train_target)\n",
    "print('트레이셋:', lr.score(train_poly, train_target))\n",
    "print('테스트셋:', lr.score(test_poly, test_target))"
   ]
  },
  {
   "attachments": {},
   "cell_type": "markdown",
   "metadata": {},
   "source": [
    "### 결과      \n",
    "- 특성의 개수를 크게 늘리면 선형 모델은 복잡해진다.           \n",
    "- 훈련 세트에 대해 거의 완벽하게 학습함           \n",
    "- 훈련 세트에 대해 과적합      "
   ]
  },
  {
   "cell_type": "markdown",
   "metadata": {},
   "source": []
  },
  {
   "attachments": {},
   "cell_type": "markdown",
   "metadata": {},
   "source": [
    "### 규제\n",
    "- 훈련세트를 너무 과도하게 학습하지 못하도록 훼방하는 것을 말함         \n",
    "- 즉 모델이 과대적합되지 않도록 만드는 것이다.   \n",
    "\n",
    "### 방법\n",
    "- 정규화: 특성에 곱해지는 계수의 크기를 작게 만든다.       \n",
    "\n",
    "https://rk1993.tistory.com/entry/Ridge-regression%EC%99%80-Lasso-regression-%EC%89%BD%EA%B2%8C-%EC%9D%B4%ED%95%B4%ED%95%98%EA%B8%B0"
   ]
  },
  {
   "cell_type": "code",
   "execution_count": 20,
   "metadata": {},
   "outputs": [
    {
     "name": "stdout",
     "output_type": "stream",
     "text": [
      "(42, 55)\n"
     ]
    }
   ],
   "source": [
    "# 정규화 클래스\n",
    "from sklearn.preprocessing import StandardScaler\n",
    "\n",
    "ss = StandardScaler()\n",
    "# 특성의 샘플을 조합\n",
    "ss.fit(train_poly)\n",
    "\n",
    "# 정규화를 거친 특성을 반환\n",
    "train_scaled = ss.transform(train_poly)\n",
    "test_scaled = ss.transform(test_poly)\n",
    "\n",
    "print(train_scaled.shape)"
   ]
  },
  {
   "cell_type": "code",
   "execution_count": 24,
   "metadata": {},
   "outputs": [
    {
     "name": "stdout",
     "output_type": "stream",
     "text": [
      "트레인셋: 0.9896101671037343\n",
      "테스트셋: 0.9790693977615393\n"
     ]
    }
   ],
   "source": [
    "# 릿지회귀\n",
    "from sklearn.linear_model import Ridge\n",
    "\n",
    "ridge = Ridge()\n",
    "ridge.fit(train_scaled, train_target)\n",
    "print('트레인셋:', ridge.score(train_scaled, train_target))\n",
    "print('테스트셋:', ridge.score(test_scaled, test_target))"
   ]
  },
  {
   "cell_type": "code",
   "execution_count": null,
   "metadata": {},
   "outputs": [],
   "source": []
  }
 ],
 "metadata": {
  "kernelspec": {
   "display_name": "sklearn-env",
   "language": "python",
   "name": "python3"
  },
  "language_info": {
   "codemirror_mode": {
    "name": "ipython",
    "version": 3
   },
   "file_extension": ".py",
   "mimetype": "text/x-python",
   "name": "python",
   "nbconvert_exporter": "python",
   "pygments_lexer": "ipython3",
   "version": "3.11.0"
  },
  "orig_nbformat": 4,
  "vscode": {
   "interpreter": {
    "hash": "f78958421cacfae9ab97e12f5ac2ff26770ff9b0be26f8bf471f5312f37527d3"
   }
  }
 },
 "nbformat": 4,
 "nbformat_minor": 2
}
